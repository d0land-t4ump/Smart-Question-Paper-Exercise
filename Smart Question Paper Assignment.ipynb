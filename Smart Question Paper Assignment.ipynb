{
 "cells": [
  {
   "cell_type": "markdown",
   "metadata": {},
   "source": [
    "Q. Use the OpenCV contour finding function to find the centroid and area of every contour in the image and print it."
   ]
  },
  {
   "cell_type": "markdown",
   "metadata": {},
   "source": [
    "Solution attempt by\n",
    "<br> K Ashvanth <br> 22B1289"
   ]
  },
  {
   "cell_type": "code",
   "execution_count": 1,
   "metadata": {},
   "outputs": [],
   "source": [
    "import cv2"
   ]
  },
  {
   "cell_type": "code",
   "execution_count": 2,
   "metadata": {},
   "outputs": [],
   "source": [
    "image = cv2.imread('contours.png', cv2.IMREAD_GRAYSCALE)"
   ]
  },
  {
   "cell_type": "markdown",
   "metadata": {},
   "source": [
    "read the image as a grayscale image since the given image is a B/W image"
   ]
  },
  {
   "cell_type": "code",
   "execution_count": 3,
   "metadata": {},
   "outputs": [],
   "source": [
    "thresh, binary_image = cv2.threshold(image, 100, 255, cv2.THRESH_BINARY_INV)"
   ]
  },
  {
   "cell_type": "markdown",
   "metadata": {},
   "source": [
    "performed inverse binary thresholding, as the findContours function finds white objects in a black background <br> so that all the contours (black in the loaded image; having 0 px) are converted to white (max i.e. 255 px), <br> and the background (white in the loaded image; having 255 px) is converted to black (0 px)"
   ]
  },
  {
   "cell_type": "markdown",
   "metadata": {},
   "source": [
    "since we have a B/W image, the threshold can be chosen to be any arbitrary value, still giving accurate results"
   ]
  },
  {
   "cell_type": "code",
   "execution_count": 4,
   "metadata": {},
   "outputs": [],
   "source": [
    "contours, hierarchy = cv2.findContours(binary_image, cv2.RETR_TREE, cv2.CHAIN_APPROX_NONE)"
   ]
  },
  {
   "cell_type": "markdown",
   "metadata": {},
   "source": [
    "we use the CHAIN_APPROX_NONE approximation, to ensure all boundary points of the contour are stored, though this is not particularly necessary <br> using CHAIN_APPROX_SIMPLE also returns us similar results; although the CHAIN_APPROX_SIMPLE method typically results in fewer points, the drawContours function automatically connects adjacent points, joining them even if they are not in the contours list."
   ]
  },
  {
   "cell_type": "markdown",
   "metadata": {},
   "source": [
    "used the RETR_TREE contour retrieval method, retrieving all contours in the image <br> using any other method would have given us same results, given the simplicity of the given image (there is no hierarchy between the contours)"
   ]
  },
  {
   "cell_type": "code",
   "execution_count": 5,
   "metadata": {},
   "outputs": [
    {
     "name": "stdout",
     "output_type": "stream",
     "text": [
      "Contour: 1 , Area: 4432.0 sq. px, Centroid: (249, 1050)\n",
      "Contour: 2 , Area: 10915.0 sq. px, Centroid: (603, 1023)\n",
      "Contour: 3 , Area: 9146.0 sq. px, Centroid: (389, 994)\n",
      "Contour: 4 , Area: 2141.0 sq. px, Centroid: (406, 897)\n",
      "Contour: 5 , Area: 14602.0 sq. px, Centroid: (194, 883)\n",
      "Contour: 6 , Area: 10906.0 sq. px, Centroid: (598, 858)\n",
      "Contour: 7 , Area: 4433.0 sq. px, Centroid: (107, 779)\n",
      "Contour: 8 , Area: 2138.0 sq. px, Centroid: (356, 735)\n",
      "Contour: 9 , Area: 4427.0 sq. px, Centroid: (290, 734)\n",
      "Contour: 10 , Area: 4429.0 sq. px, Centroid: (663, 733)\n",
      "Contour: 11 , Area: 8260.5 sq. px, Centroid: (477, 757)\n",
      "Contour: 12 , Area: 4431.5 sq. px, Centroid: (555, 656)\n",
      "Contour: 13 , Area: 14599.5 sq. px, Centroid: (202, 647)\n",
      "Contour: 14 , Area: 8260.5 sq. px, Centroid: (427, 595)\n",
      "Contour: 15 , Area: 4429.5 sq. px, Centroid: (346, 521)\n",
      "Contour: 16 , Area: 6121.5 sq. px, Centroid: (427, 445)\n",
      "Contour: 17 , Area: 4432.0 sq. px, Centroid: (143, 443)\n",
      "Contour: 18 , Area: 8962.0 sq. px, Centroid: (592, 439)\n",
      "Contour: 19 , Area: 4431.0 sq. px, Centroid: (393, 359)\n",
      "Contour: 20 , Area: 14599.5 sq. px, Centroid: (161, 355)\n",
      "Contour: 21 , Area: 9083.5 sq. px, Centroid: (615, 342)\n",
      "Contour: 22 , Area: 4433.5 sq. px, Centroid: (427, 240)\n",
      "Contour: 23 , Area: 4430.5 sq. px, Centroid: (237, 237)\n",
      "Contour: 24 , Area: 8962.0 sq. px, Centroid: (623, 230)\n",
      "Contour: 25 , Area: 4423.0 sq. px, Centroid: (488, 154)\n",
      "Contour: 26 , Area: 14601.0 sq. px, Centroid: (169, 118)\n"
     ]
    }
   ],
   "source": [
    "output_image = cv2.imread('contours.png')\n",
    "i = 0\n",
    "for contour in contours:\n",
    "    cv2.drawContours(output_image, [contour], -1, (0, 255, 0), 2)\n",
    "\n",
    "    M = cv2.moments(contour)\n",
    "\n",
    "    x = int(M[\"m10\"] / M[\"m00\"])\n",
    "    y = int(M[\"m01\"] / M[\"m00\"])\n",
    "    \n",
    "    cv2.circle(output_image, (x, y), 5, (0, 0, 255), -1)\n",
    "    cv2.putText(output_image, str(i+1), (x+10, y+10), cv2.FONT_HERSHEY_SIMPLEX, 0.5, (255, 255, 255), 2)\n",
    "\n",
    "    print(\"Contour:\",i+1, \", Area:\",M[\"m00\"], \"sq. px, Centroid:\",(x, y))\n",
    "    i += 1\n"
   ]
  },
  {
   "cell_type": "markdown",
   "metadata": {},
   "source": [
    "we draw the contours onto the image <br> the drawContours function takes the output image, list of contours as inputs; we choose to draw all contours, and can set the colour and thickness of the outline"
   ]
  },
  {
   "cell_type": "markdown",
   "metadata": {},
   "source": [
    "cv.moments gives us the values of the image moments for the contour <br> the contour area is given by moment M['m00'], in square pixels (no. of pixels contained by the contour) <br><br> the contour centroid is given by <br> cx = int(M['m10']/M['m00']) and <br> cy = int(M['m01']/M['m00']), in pixel units, with the origin set at the top-left corner of the image; the x-coordinate increases from left to right and the y-coordinate increases from top to bottom"
   ]
  },
  {
   "cell_type": "markdown",
   "metadata": {},
   "source": [
    "the centroids are marked out on the output image, additionally, I have also labelled the contours with their numbers, so the results can be corresponded easily"
   ]
  },
  {
   "cell_type": "markdown",
   "metadata": {},
   "source": [
    "as an excercise for the future, we could try characterising the shapes as rectangles, squares, etc. "
   ]
  },
  {
   "cell_type": "code",
   "execution_count": 6,
   "metadata": {},
   "outputs": [
    {
     "data": {
      "text/plain": [
       "True"
      ]
     },
     "execution_count": 6,
     "metadata": {},
     "output_type": "execute_result"
    }
   ],
   "source": [
    "cv2.imwrite('output_with_contour.png', output_image)"
   ]
  }
 ],
 "metadata": {
  "kernelspec": {
   "display_name": "Python 3",
   "language": "python",
   "name": "python3"
  },
  "language_info": {
   "codemirror_mode": {
    "name": "ipython",
    "version": 3
   },
   "file_extension": ".py",
   "mimetype": "text/x-python",
   "name": "python",
   "nbconvert_exporter": "python",
   "pygments_lexer": "ipython3",
   "version": "3.11.4"
  }
 },
 "nbformat": 4,
 "nbformat_minor": 2
}
